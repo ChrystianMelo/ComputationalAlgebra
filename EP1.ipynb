{
  "nbformat": 4,
  "nbformat_minor": 0,
  "metadata": {
    "colab": {
      "provenance": []
    },
    "kernelspec": {
      "name": "python3",
      "display_name": "Python 3"
    }
  },
  "cells": [
    {
      "cell_type": "markdown",
      "metadata": {
        "id": "ruYnh950B_xv"
      },
      "source": [
        "# Exercício de Programação 1\n",
        "\n",
        "<font color=\"red\">**Prazo de submissão: 23:59 do dia 08.11.2021** </font>\n",
        "\n",
        "2021.2 Álgebra Linear Computacional - DCC - UFMG\n",
        "\n",
        "Erickson - Fabricio\n",
        "\n",
        "Instruções:\n",
        "* Antes de submeter suas soluções, certifique-se de que tudo roda como esperado. Primeiro, **reinicie o kernel** no menu, selecione Kernel$\\rightarrow$Restart e então execute **todas as células** (no menu, Cell$\\rightarrow$Run All)\n",
        "* Apenas o arquivo .ipynb deve ser submetido. Ele não deve ser compactado.\n",
        "* Não deixe de preencher seu nome e número de matrícula na célula a seguir"
      ]
    },
    {
      "cell_type": "markdown",
      "metadata": {
        "id": "Wj3pr8MlsKDK"
      },
      "source": [
        "### Questão 1\n",
        "\n",
        "Dadas as matrizes $A$, $B$ e o vetor $C$:\n",
        "\n",
        "$$\n",
        "A = \\begin{bmatrix}\n",
        " 2 & 1 & 3\\\\\n",
        " 3 & 1 & 4\\\\\n",
        " 5 & 7 & 12\n",
        "\\end{bmatrix}_{3\\times 3}\n",
        "\\qquad\n",
        "B = \\begin{bmatrix}\n",
        " 1 & 0 & 0\\\\\n",
        " 0 & 1 & 0\\\\\n",
        " 0 & 0 & 1\n",
        "\\end{bmatrix}_{3\\times 3}\n",
        "\\qquad\n",
        "C = \\begin{bmatrix}\n",
        " 3 \\\\\n",
        " 1 \\\\\n",
        " 2\n",
        "\\end{bmatrix}_{3\\times 1}\n",
        "$$\n",
        "\n",
        "Gere as matrizes D, E e o vetor F tal que:\n",
        "\n",
        "$$\n",
        "D = A B \\\\\n",
        "E = A^\\top + B\\\\\n",
        "F = A  C\n",
        "$$\n",
        "\n",
        "*Dicas:*\n",
        "* *Imprima ```A.shape, B.shape, C.shape``` e confira se as dimensões de suas matrizes batem com a descrição do enunciado.*\n",
        "* As operações de produto e transposição estão definidas na documentação da biblioteca ```numpy```."
      ]
    },
    {
      "cell_type": "code",
      "metadata": {
        "id": "9ttFs0HQxBj-",
        "colab": {
          "base_uri": "https://localhost:8080/"
        },
        "outputId": "240b6f34-29b4-42aa-b433-8b86fcedf6c3"
      },
      "source": [
        "# Código para Exercício 1\n",
        "import numpy as np\n",
        "\n",
        "A = np.array([[2, 3, 5],[1, 1, 7],[3, 4, 12]])\n",
        "B = np.array([[1, 0, 0],[0, 1, 0],[0 , 0, 1]])\n",
        "C = np.array([3, 1, 2])\n",
        "\n",
        "D = A.dot(B)\n",
        "E = A.T + B\n",
        "F = A.dot(C)\n",
        "\n",
        "print(A.shape)\n",
        "print(B.shape)\n",
        "print(C.shape)"
      ],
      "execution_count": 1,
      "outputs": [
        {
          "output_type": "stream",
          "name": "stdout",
          "text": [
            "(3, 3)\n",
            "(3, 3)\n",
            "(3,)\n"
          ]
        }
      ]
    },
    {
      "cell_type": "markdown",
      "metadata": {
        "id": "6rP_Qt3xGiZv"
      },
      "source": [
        "### Questão 2\n"
      ]
    },
    {
      "cell_type": "markdown",
      "metadata": {
        "id": "s27s4Jp-U9n1"
      },
      "source": [
        "\n",
        "#### Questão 2.1\n",
        "\n",
        "Uma forma de representar um vetor no espaço é através de um ponto localizado na extremidade da \"seta\" do vetor. Essa representação é especialmente útil quando queremos vizualizar uma grande quantidade de vetores. Crie um array chamado `dados`, de tamanho $n \\times 2$, em que cada linha represente um dos seguintes vetores de tamanho 2:\n",
        "\n",
        "- $(\\ 3.4,\\ 4.4\\ )$\n",
        "- $(\\ 0.6,\\ 3.7\\ )$\n",
        "- $(\\ 4.2,\\ 3.8\\ )$\n",
        "- $(\\ -0.1,\\ 3.8\\ )$\n",
        "- $(\\ 1.2,\\ 3.8\\ )$\n",
        "- $(\\ 3.2,\\ 3.2\\ )$\n",
        "- $(\\ 3.9,\\ 2.3\\ )$\n",
        "- $(\\ 1.4,\\ 3.6\\ )$\n",
        "- $(\\ 3.6,\\ 4.7\\ )$\n",
        "- $(\\ 1.0,\\ 3.6\\ )$\n",
        "\n",
        "\n",
        "\n",
        "Você pode achar a documentação do [`np.array`](https://numpy.org/doc/stable/reference/generated/numpy.array.html) útil."
      ]
    },
    {
      "cell_type": "code",
      "metadata": {
        "id": "laSnwDnTT2b2"
      },
      "source": [
        "# Código para Exercício 2.1\n",
        "dados = np.array(\n",
        "    [[3.4, 4.4],\n",
        "    [0.6, 3.7],\n",
        "    [4.2, 3.8],\n",
        "    [-0.1, 3.8],\n",
        "    [1.2, 3.8],\n",
        "    [3.2, 3.2],\n",
        "    [3.9, 2.3],\n",
        "    [1.4, 3.6],\n",
        "    [3.6, 4.7],\n",
        "    [1.0, 3.6]])"
      ],
      "execution_count": 2,
      "outputs": []
    },
    {
      "cell_type": "markdown",
      "metadata": {
        "id": "MQBRlGAST7YU"
      },
      "source": [
        "#### Questão 2.2\n",
        "\n",
        "Vamos agora visualizar esses pontos no espaço 2D. Para isso, podemos usar a biblioteca [`matplotlib`](https://matplotlib.org/). Agora, com as coordenadas $x$ e $y$ dos pontos do exercício anterior, crie um gráfico de dispersão que mostre cada ponto no plano. Voce pode achar a documentação de [`plt.scatter`](https://matplotlib.org/3.1.0/api/_as_gen/matplotlib.pyplot.scatter.html) útil, além da dica que para escolher a coluna $i$ de um array bi-dimensional usamos `x[:, i]` (consulte essa página sobre [indexing](https://numpy.org/doc/stable/reference/arrays.indexing.html) em `numpy.arrays` para mais detalhes)."
      ]
    },
    {
      "cell_type": "code",
      "metadata": {
        "id": "5EQWl7ATGtr1",
        "colab": {
          "base_uri": "https://localhost:8080/",
          "height": 447
        },
        "outputId": "018c85f4-a1c0-4363-d7b6-43c28e2b4159"
      },
      "source": [
        "# Código para Exercício 2.2\n",
        "import matplotlib.pyplot as plt\n",
        "\n",
        "plt.scatter(x = dados[:,0], y = dados[:,1])"
      ],
      "execution_count": 3,
      "outputs": [
        {
          "output_type": "execute_result",
          "data": {
            "text/plain": [
              "<matplotlib.collections.PathCollection at 0x7c4c1842afb0>"
            ]
          },
          "metadata": {},
          "execution_count": 3
        },
        {
          "output_type": "display_data",
          "data": {
            "text/plain": [
              "<Figure size 640x480 with 1 Axes>"
            ],
            "image/png": "[encoded data removed]"
          },
          "metadata": {}
        }
      ]
    },
    {
      "cell_type": "markdown",
      "metadata": {
        "id": "HjvjGXteUoa4"
      },
      "source": [
        "#### Questão 2.3\n",
        "\n",
        "Agora que temos como visualizar os vetores no plano, vamos fazer operação de adição de vetores. Crie um array que represente um vetor $\\textbf{a}=(\\ 6,\\ 9\\ )$ e adicione-o a todos os vetores no nosso array, criando um novo array chamado `novos_dados`.\n",
        "\n",
        "**Dica**: Quando estamos tratando de matrizes, não podemos simplesmente adicionar uma matriz de tamanho $n \\times 2$ por um vetor de tamanho $2$, ou $1 \\times 2$. Porém, o `numpy` tem uma funcionalidade que é muito útil quando queremos fazer operações entre arrays que não possuem o mesmo tamanho, como é o nosso caso (podemos ver isso usando: `print(dados.shape, a.shape)`). Essa funcionalidade é o [broadcasting](https://numpy.org/doc/stable/user/basics.broadcasting.html), e ela nos ajuda a fazer operações entre arrays que não possuem o mesmo tamanho, mas algumas dimensões são compatíveis."
      ]
    },
    {
      "cell_type": "code",
      "metadata": {
        "id": "E3Yg_vv1U2Q6",
        "colab": {
          "base_uri": "https://localhost:8080/"
        },
        "outputId": "d72c38a0-3e8d-42ed-cbac-4e8c72a68e88"
      },
      "source": [
        "# Código para Exercício 2.3\n",
        "a = np.array([[6,9]])\n",
        "\n",
        "print(dados.shape, a.shape)\n",
        "\n",
        "novos_dados = dados + a\n",
        "novos_dados"
      ],
      "execution_count": 4,
      "outputs": [
        {
          "output_type": "stream",
          "name": "stdout",
          "text": [
            "(10, 2) (1, 2)\n"
          ]
        },
        {
          "output_type": "execute_result",
          "data": {
            "text/plain": [
              "array([[ 9.4, 13.4],\n",
              "       [ 6.6, 12.7],\n",
              "       [10.2, 12.8],\n",
              "       [ 5.9, 12.8],\n",
              "       [ 7.2, 12.8],\n",
              "       [ 9.2, 12.2],\n",
              "       [ 9.9, 11.3],\n",
              "       [ 7.4, 12.6],\n",
              "       [ 9.6, 13.7],\n",
              "       [ 7. , 12.6]])"
            ]
          },
          "metadata": {},
          "execution_count": 4
        }
      ]
    },
    {
      "cell_type": "markdown",
      "metadata": {
        "id": "dx5BrTVbdUS7"
      },
      "source": [
        "#### Questão 2.4\n",
        "\n",
        "Note que para somar arrays de dimensões diferentes (nesse caso, dados é 2D e a é 1D), o broadcasting primeiro adiciona dimensões de tamanho 1 ao início do array com menos dimensões. Só depois ele expande as dimensões de tamanho 1 para que casem com os tamanhos das dimensões do outro array.\n",
        "\n",
        "Portanto, devemos pensar no array ```a``` como um vetor coluna ou como um vetor linha?"
      ]
    },
    {
      "cell_type": "markdown",
      "metadata": {
        "id": "vVVBkK6ceWP9"
      },
      "source": [
        "\n",
        "\n",
        "```\n",
        "`# This is formatted as code`\n",
        "```\n",
        "\n",
        "**Resposta:** Vetor linha"
      ]
    },
    {
      "cell_type": "markdown",
      "metadata": {
        "id": "DxzZGekorL3m"
      },
      "source": [
        "#### Questão 2.5\n",
        "\n",
        "Agora podemos ver no espaço 2D nossos vetores originais e os vetores resultantes da soma. Para isso, podemos usar a mesma função que usamos para criar o gráfico de dispersão na **Questão 2.2**, porém agora queremos mostrar os pontos de 2 arrays, e não de apenas 1."
      ]
    },
    {
      "cell_type": "code",
      "metadata": {
        "id": "xeBdgoFMrQwP",
        "colab": {
          "base_uri": "https://localhost:8080/",
          "height": 447
        },
        "outputId": "3cb77b46-1790-43a6-b561-a50056cbb07c"
      },
      "source": [
        "# Código para Exercício 2.5\n",
        "plt.scatter(x = dados[:,0], y = dados[:,1], color = 'blue', label = 'dados')\n",
        "plt.scatter(x = novos_dados[:,0], y = novos_dados[:,1], color = \"red\", label = \"novos_dados\")\n",
        "plt.legend()"
      ],
      "execution_count": 5,
      "outputs": [
        {
          "output_type": "execute_result",
          "data": {
            "text/plain": [
              "<matplotlib.legend.Legend at 0x7c4c1834f6a0>"
            ]
          },
          "metadata": {},
          "execution_count": 5
        },
        {
          "output_type": "display_data",
          "data": {
            "text/plain": [
              "<Figure size 640x480 with 1 Axes>"
            ],
            "image/png": "[encoded data removed]"
          },
          "metadata": {}
        }
      ]
    },
    {
      "cell_type": "markdown",
      "metadata": {
        "id": "Sz1apyFP090L"
      },
      "source": [
        "### Questão 3\n",
        "\n",
        "Como visto em aula, a multiplicação de uma matriz $G$ por um vetor $\\mathbb{x}$ pode ser vista como uma combinação linear das colunas de $G$.\n"
      ]
    },
    {
      "cell_type": "markdown",
      "metadata": {
        "id": "6Ij42r1ctg0g"
      },
      "source": [
        "\n",
        "#### Questão 3.1\n",
        "\n",
        "Dado a matriz $G$ e o vetor $\\mathbb{x}$:\n",
        "\n",
        "$$\n",
        "G = \\begin{bmatrix}\n",
        " 3 & 6 & 9\\\\\n",
        " 5 & 10 & 15\n",
        "\\end{bmatrix}_{2\\times 3}\n",
        "\\qquad\n",
        "\\mathbb{x} = \\begin{bmatrix}\n",
        " 2 \\\\\n",
        " 1 \\\\\n",
        " 1\n",
        "\\end{bmatrix}_{3\\times 1}\n",
        "$$\n",
        "\n",
        "Gere o vetor $\\mathbb{y}$ tal que:\n",
        "$$\n",
        "\\mathbb{y} = G \\mathbb{x} \\\\\n",
        "$$\n"
      ]
    },
    {
      "cell_type": "code",
      "metadata": {
        "id": "cGNQcr7Ptk0r",
        "colab": {
          "base_uri": "https://localhost:8080/"
        },
        "outputId": "3095e4b3-1353-4924-ebab-b09dd082fcb5"
      },
      "source": [
        "# Código para Exercício 3.1\n",
        "G = np.array([[3,6, 9], [5,10, 15]])\n",
        "x = np.array([[2],[1],[1]])\n",
        "y = G.dot(x)\n",
        "y"
      ],
      "execution_count": 6,
      "outputs": [
        {
          "output_type": "execute_result",
          "data": {
            "text/plain": [
              "array([[21],\n",
              "       [35]])"
            ]
          },
          "metadata": {},
          "execution_count": 6
        }
      ]
    },
    {
      "cell_type": "markdown",
      "metadata": {
        "id": "rD0TR2nPuIo8"
      },
      "source": [
        "#### Questão 3.2\n",
        "\n",
        "O espaço de colunas de uma matriz pode ser interpretado como o espaço formado por todas as combinações lineares das colunas da matriz. Então, vamos simular a representação do espaço de colunas da matriz $G$ criada anteriormente fazendo várias combinações lineares de suas colunas. Para isso, podemos criar vários vetores-coluna $x$ aleatórios, calcular a operação $y = Gx$ para cada um deles, e mostrar onde cada vetor $y$ está localizado no espaço. Portanto, faça os seguintes passos:\n",
        "\n",
        "1. Crie um vetor-coluna $x \\in \\mathbb{R}^{3 \\times 1}$ com valores aleatórios entre $-10$ e $10$.\n",
        "1. Calcule $y = Gx$. Esse passo pode ser feito da mesma forma que a **Questão 3.1**.\n",
        "1. Plote no plano 2D um ponto com as coordenadas do $y$ resultante.\n",
        "\n",
        "Repita esses passos 10 vezes. **Dica:** para a criação dos valores $x$ aleatórios, voce pode escolher os números você mesmo ou usar a função [`np.random.randint`](https://numpy.org/doc/stable/reference/random/generated/numpy.random.randint.html). Para a  visualização, utilize a biblioteca [`matplotlib`](https://matplotlib.org/), e deixe para usar `plt.show()` apenas depois de ter plotado todos os vetores $y$, para que todos apareçam no mesmo gráfico."
      ]
    },
    {
      "cell_type": "code",
      "metadata": {
        "id": "bf8B6CPPwXsE",
        "colab": {
          "base_uri": "https://localhost:8080/",
          "height": 435
        },
        "outputId": "6de05aa7-def5-4e03-9c6a-b1af8bf00580"
      },
      "source": [
        "# Código para Exercício 3.2\n",
        "for i in range(10) :\n",
        "  a = np.random.randint(-10, 10)\n",
        "  b = np.random.randint(-10, 10)\n",
        "  c = np.random.randint(-10, 10)\n",
        "  x = np.array([[a],[b],[c]])\n",
        "  Y = G.dot(x)\n",
        "  plt.scatter(x = Y[0], y = Y[1])\n",
        "plt.show()"
      ],
      "execution_count": 7,
      "outputs": [
        {
          "output_type": "display_data",
          "data": {
            "text/plain": [
              "<Figure size 640x480 with 1 Axes>"
            ],
            "image/png": "[encoded data removed]"
          },
          "metadata": {}
        }
      ]
    },
    {
      "cell_type": "markdown",
      "metadata": {
        "id": "WWwfDjZQyBKt"
      },
      "source": [
        "#### Questão 3.3\n",
        "\n",
        "No item anterior, você deve ter obtido uma reta ao visualizar o gráfico resultante. Por que isso acontece no caso dessa matriz $G$ em específico?"
      ]
    },
    {
      "cell_type": "markdown",
      "metadata": {
        "id": "mpB7U8BqyEQl"
      },
      "source": [
        "**Resposta:**\n",
        "Pois o espaço gerado pelo espaço coluna da matriz G contém um vetor apenas, logo essas operações em G estão no espaço coluna."
      ]
    },
    {
      "cell_type": "markdown",
      "metadata": {
        "id": "9XrQcmBc4RVE"
      },
      "source": [
        "#### Questão 3.4\n",
        "\n",
        "Agora que sabemos que o espaço coluna da matriz $G$ é uma reta, encontre dois pontos no espaço coluna $C(G)$ e use o comando ```plt.plot()``` para traçá-la."
      ]
    },
    {
      "cell_type": "code",
      "metadata": {
        "id": "S-zMnudo4kXZ",
        "colab": {
          "base_uri": "https://localhost:8080/",
          "height": 447
        },
        "outputId": "d73ce0c4-33fc-46ae-c66b-4db9f2cdfcd4"
      },
      "source": [
        "# Código para Exercício 3.4\n",
        "plt.plot(G[:,0],G[:,2])"
      ],
      "execution_count": 8,
      "outputs": [
        {
          "output_type": "execute_result",
          "data": {
            "text/plain": [
              "[<matplotlib.lines.Line2D at 0x7c4c180975b0>]"
            ]
          },
          "metadata": {},
          "execution_count": 8
        },
        {
          "output_type": "display_data",
          "data": {
            "text/plain": [
              "<Figure size 640x480 with 1 Axes>"
            ],
            "image/png": "[encoded data removed]"
          },
          "metadata": {}
        }
      ]
    }
  ]
}